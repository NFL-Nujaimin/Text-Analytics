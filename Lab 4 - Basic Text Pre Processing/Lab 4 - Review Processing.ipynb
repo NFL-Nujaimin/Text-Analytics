{
 "cells": [
  {
   "cell_type": "code",
   "execution_count": 19,
   "id": "816c084e-39de-4b99-a258-b2f4397b1d68",
   "metadata": {},
   "outputs": [
    {
     "data": {
      "text/html": [
       "<div>\n",
       "<style scoped>\n",
       "    .dataframe tbody tr th:only-of-type {\n",
       "        vertical-align: middle;\n",
       "    }\n",
       "\n",
       "    .dataframe tbody tr th {\n",
       "        vertical-align: top;\n",
       "    }\n",
       "\n",
       "    .dataframe thead th {\n",
       "        text-align: right;\n",
       "    }\n",
       "</style>\n",
       "<table border=\"1\" class=\"dataframe\">\n",
       "  <thead>\n",
       "    <tr style=\"text-align: right;\">\n",
       "      <th></th>\n",
       "      <th>Review</th>\n",
       "    </tr>\n",
       "  </thead>\n",
       "  <tbody>\n",
       "    <tr>\n",
       "      <th>0</th>\n",
       "      <td>I like this books very much!!! It is VERY INTE...</td>\n",
       "    </tr>\n",
       "    <tr>\n",
       "      <th>1</th>\n",
       "      <td>Do not like this book. so boring 2. Too length...</td>\n",
       "    </tr>\n",
       "  </tbody>\n",
       "</table>\n",
       "</div>"
      ],
      "text/plain": [
       "                                              Review\n",
       "0  I like this books very much!!! It is VERY INTE...\n",
       "1  Do not like this book. so boring 2. Too length..."
      ]
     },
     "execution_count": 19,
     "metadata": {},
     "output_type": "execute_result"
    }
   ],
   "source": [
    "import pandas as pd \n",
    "\n",
    "data = pd.read_csv(\"Review.csv\")\n",
    "data"
   ]
  },
  {
   "cell_type": "code",
   "execution_count": 20,
   "id": "9df8e8fa-48e4-4351-b485-fe026c9b4689",
   "metadata": {},
   "outputs": [
    {
     "data": {
      "text/plain": [
       "'!\"#$%&\\'()*+,-./:;<=>?@[\\\\]^_`{|}~'"
      ]
     },
     "execution_count": 20,
     "metadata": {},
     "output_type": "execute_result"
    }
   ],
   "source": [
    "#import module for string manipulation\n",
    "import string\n",
    "\n",
    "#string module to remove punctuation\n",
    "string.punctuation"
   ]
  },
  {
   "cell_type": "code",
   "execution_count": 21,
   "id": "b03b799d-e463-4bf3-8ea9-ca1008e07ca3",
   "metadata": {},
   "outputs": [],
   "source": [
    "def remove_punctuation(text):\n",
    "    punctuation_free = \"\"\n",
    "    for i in text:\n",
    "        if i not in string.punctuation:\n",
    "            punctuation_free += i\n",
    "    return punctuation_free"
   ]
  },
  {
   "cell_type": "code",
   "execution_count": 22,
   "id": "cb646f86-e253-4354-be3c-6210c763c135",
   "metadata": {},
   "outputs": [
    {
     "data": {
      "text/html": [
       "<div>\n",
       "<style scoped>\n",
       "    .dataframe tbody tr th:only-of-type {\n",
       "        vertical-align: middle;\n",
       "    }\n",
       "\n",
       "    .dataframe tbody tr th {\n",
       "        vertical-align: top;\n",
       "    }\n",
       "\n",
       "    .dataframe thead th {\n",
       "        text-align: right;\n",
       "    }\n",
       "</style>\n",
       "<table border=\"1\" class=\"dataframe\">\n",
       "  <thead>\n",
       "    <tr style=\"text-align: right;\">\n",
       "      <th></th>\n",
       "      <th>Review</th>\n",
       "      <th>clean_punctuation</th>\n",
       "    </tr>\n",
       "  </thead>\n",
       "  <tbody>\n",
       "    <tr>\n",
       "      <th>0</th>\n",
       "      <td>I like this books very much!!! It is VERY INTE...</td>\n",
       "      <td>I like this books very much It is VERY INTERES...</td>\n",
       "    </tr>\n",
       "    <tr>\n",
       "      <th>1</th>\n",
       "      <td>Do not like this book. so boring 2. Too length...</td>\n",
       "      <td>Do not like this book so boring 2 Too lengthy</td>\n",
       "    </tr>\n",
       "  </tbody>\n",
       "</table>\n",
       "</div>"
      ],
      "text/plain": [
       "                                              Review  \\\n",
       "0  I like this books very much!!! It is VERY INTE...   \n",
       "1  Do not like this book. so boring 2. Too length...   \n",
       "\n",
       "                                   clean_punctuation  \n",
       "0  I like this books very much It is VERY INTERES...  \n",
       "1     Do not like this book so boring 2 Too lengthy   "
      ]
     },
     "execution_count": 22,
     "metadata": {},
     "output_type": "execute_result"
    }
   ],
   "source": [
    "data['clean_punctuation'] = data['Review'].apply(remove_punctuation)\n",
    "data"
   ]
  },
  {
   "cell_type": "code",
   "execution_count": 24,
   "id": "acbf6360-a27a-4fc5-9665-562745054506",
   "metadata": {},
   "outputs": [
    {
     "data": {
      "text/html": [
       "<div>\n",
       "<style scoped>\n",
       "    .dataframe tbody tr th:only-of-type {\n",
       "        vertical-align: middle;\n",
       "    }\n",
       "\n",
       "    .dataframe tbody tr th {\n",
       "        vertical-align: top;\n",
       "    }\n",
       "\n",
       "    .dataframe thead th {\n",
       "        text-align: right;\n",
       "    }\n",
       "</style>\n",
       "<table border=\"1\" class=\"dataframe\">\n",
       "  <thead>\n",
       "    <tr style=\"text-align: right;\">\n",
       "      <th></th>\n",
       "      <th>Review</th>\n",
       "      <th>clean_punctuation</th>\n",
       "      <th>clean_lower</th>\n",
       "    </tr>\n",
       "  </thead>\n",
       "  <tbody>\n",
       "    <tr>\n",
       "      <th>0</th>\n",
       "      <td>I like this books very much!!! It is VERY INTE...</td>\n",
       "      <td>I like this books very much It is VERY INTERES...</td>\n",
       "      <td>i like this books very much it is very interes...</td>\n",
       "    </tr>\n",
       "    <tr>\n",
       "      <th>1</th>\n",
       "      <td>Do not like this book. so boring 2. Too length...</td>\n",
       "      <td>Do not like this book so boring 2 Too lengthy</td>\n",
       "      <td>do not like this book so boring 2 too lengthy</td>\n",
       "    </tr>\n",
       "  </tbody>\n",
       "</table>\n",
       "</div>"
      ],
      "text/plain": [
       "                                              Review  \\\n",
       "0  I like this books very much!!! It is VERY INTE...   \n",
       "1  Do not like this book. so boring 2. Too length...   \n",
       "\n",
       "                                   clean_punctuation  \\\n",
       "0  I like this books very much It is VERY INTERES...   \n",
       "1     Do not like this book so boring 2 Too lengthy    \n",
       "\n",
       "                                         clean_lower  \n",
       "0  i like this books very much it is very interes...  \n",
       "1     do not like this book so boring 2 too lengthy   "
      ]
     },
     "execution_count": 24,
     "metadata": {},
     "output_type": "execute_result"
    }
   ],
   "source": [
    "data['clean_lower'] = data['clean_punctuation'].str.lower()\n",
    "data"
   ]
  },
  {
   "cell_type": "code",
   "execution_count": 25,
   "id": "8b24d83e-597d-4ca9-9ed3-34f9850fb487",
   "metadata": {},
   "outputs": [],
   "source": [
    "import re\n",
    "\n",
    "def remove_numbers(text):\n",
    "    return re.sub(\"[\\d-]\",'',text)"
   ]
  },
  {
   "cell_type": "code",
   "execution_count": 26,
   "id": "d2d562be-675c-406f-9922-63be67ea837c",
   "metadata": {},
   "outputs": [
    {
     "data": {
      "text/html": [
       "<div>\n",
       "<style scoped>\n",
       "    .dataframe tbody tr th:only-of-type {\n",
       "        vertical-align: middle;\n",
       "    }\n",
       "\n",
       "    .dataframe tbody tr th {\n",
       "        vertical-align: top;\n",
       "    }\n",
       "\n",
       "    .dataframe thead th {\n",
       "        text-align: right;\n",
       "    }\n",
       "</style>\n",
       "<table border=\"1\" class=\"dataframe\">\n",
       "  <thead>\n",
       "    <tr style=\"text-align: right;\">\n",
       "      <th></th>\n",
       "      <th>Review</th>\n",
       "      <th>clean_punctuation</th>\n",
       "      <th>clean_lower</th>\n",
       "      <th>clean_number</th>\n",
       "    </tr>\n",
       "  </thead>\n",
       "  <tbody>\n",
       "    <tr>\n",
       "      <th>0</th>\n",
       "      <td>I like this books very much!!! It is VERY INTE...</td>\n",
       "      <td>I like this books very much It is VERY INTERES...</td>\n",
       "      <td>i like this books very much it is very interes...</td>\n",
       "      <td>i like this books very much it is very interes...</td>\n",
       "    </tr>\n",
       "    <tr>\n",
       "      <th>1</th>\n",
       "      <td>Do not like this book. so boring 2. Too length...</td>\n",
       "      <td>Do not like this book so boring 2 Too lengthy</td>\n",
       "      <td>do not like this book so boring 2 too lengthy</td>\n",
       "      <td>do not like this book so boring  too lengthy</td>\n",
       "    </tr>\n",
       "  </tbody>\n",
       "</table>\n",
       "</div>"
      ],
      "text/plain": [
       "                                              Review  \\\n",
       "0  I like this books very much!!! It is VERY INTE...   \n",
       "1  Do not like this book. so boring 2. Too length...   \n",
       "\n",
       "                                   clean_punctuation  \\\n",
       "0  I like this books very much It is VERY INTERES...   \n",
       "1     Do not like this book so boring 2 Too lengthy    \n",
       "\n",
       "                                         clean_lower  \\\n",
       "0  i like this books very much it is very interes...   \n",
       "1     do not like this book so boring 2 too lengthy    \n",
       "\n",
       "                                        clean_number  \n",
       "0  i like this books very much it is very interes...  \n",
       "1      do not like this book so boring  too lengthy   "
      ]
     },
     "execution_count": 26,
     "metadata": {},
     "output_type": "execute_result"
    }
   ],
   "source": [
    "data['clean_number'] = data['clean_lower'].apply(remove_numbers)\n",
    "data"
   ]
  },
  {
   "cell_type": "code",
   "execution_count": 29,
   "id": "cd80edbb-eb5d-409b-a8c3-fce34f0ad627",
   "metadata": {},
   "outputs": [
    {
     "name": "stderr",
     "output_type": "stream",
     "text": [
      "[nltk_data] Downloading package punkt to\n",
      "[nltk_data]     C:\\Users\\3nauf\\AppData\\Roaming\\nltk_data...\n",
      "[nltk_data]   Package punkt is already up-to-date!\n"
     ]
    },
    {
     "data": {
      "text/plain": [
       "True"
      ]
     },
     "execution_count": 29,
     "metadata": {},
     "output_type": "execute_result"
    }
   ],
   "source": [
    "import nltk\n",
    "nltk.download('punkt')"
   ]
  },
  {
   "cell_type": "code",
   "execution_count": 30,
   "id": "c3ea79c5-d7f1-420d-bd31-2cc2254dcd3b",
   "metadata": {},
   "outputs": [
    {
     "data": {
      "text/html": [
       "<div>\n",
       "<style scoped>\n",
       "    .dataframe tbody tr th:only-of-type {\n",
       "        vertical-align: middle;\n",
       "    }\n",
       "\n",
       "    .dataframe tbody tr th {\n",
       "        vertical-align: top;\n",
       "    }\n",
       "\n",
       "    .dataframe thead th {\n",
       "        text-align: right;\n",
       "    }\n",
       "</style>\n",
       "<table border=\"1\" class=\"dataframe\">\n",
       "  <thead>\n",
       "    <tr style=\"text-align: right;\">\n",
       "      <th></th>\n",
       "      <th>Review</th>\n",
       "      <th>clean_punctuation</th>\n",
       "      <th>clean_lower</th>\n",
       "      <th>clean_number</th>\n",
       "      <th>token_data</th>\n",
       "    </tr>\n",
       "  </thead>\n",
       "  <tbody>\n",
       "    <tr>\n",
       "      <th>0</th>\n",
       "      <td>I like this books very much!!! It is VERY INTE...</td>\n",
       "      <td>I like this books very much It is VERY INTERES...</td>\n",
       "      <td>i like this books very much it is very interes...</td>\n",
       "      <td>i like this books very much it is very interes...</td>\n",
       "      <td>[i, like, this, books, very, much, it, is, ver...</td>\n",
       "    </tr>\n",
       "    <tr>\n",
       "      <th>1</th>\n",
       "      <td>Do not like this book. so boring 2. Too length...</td>\n",
       "      <td>Do not like this book so boring 2 Too lengthy</td>\n",
       "      <td>do not like this book so boring 2 too lengthy</td>\n",
       "      <td>do not like this book so boring  too lengthy</td>\n",
       "      <td>[do, not, like, this, book, so, boring, too, l...</td>\n",
       "    </tr>\n",
       "  </tbody>\n",
       "</table>\n",
       "</div>"
      ],
      "text/plain": [
       "                                              Review  \\\n",
       "0  I like this books very much!!! It is VERY INTE...   \n",
       "1  Do not like this book. so boring 2. Too length...   \n",
       "\n",
       "                                   clean_punctuation  \\\n",
       "0  I like this books very much It is VERY INTERES...   \n",
       "1     Do not like this book so boring 2 Too lengthy    \n",
       "\n",
       "                                         clean_lower  \\\n",
       "0  i like this books very much it is very interes...   \n",
       "1     do not like this book so boring 2 too lengthy    \n",
       "\n",
       "                                        clean_number  \\\n",
       "0  i like this books very much it is very interes...   \n",
       "1      do not like this book so boring  too lengthy    \n",
       "\n",
       "                                          token_data  \n",
       "0  [i, like, this, books, very, much, it, is, ver...  \n",
       "1  [do, not, like, this, book, so, boring, too, l...  "
      ]
     },
     "execution_count": 30,
     "metadata": {},
     "output_type": "execute_result"
    }
   ],
   "source": [
    "from nltk.tokenize import word_tokenize\n",
    "\n",
    "data['token_data'] = data['clean_number'].apply(word_tokenize)\n",
    "data"
   ]
  },
  {
   "cell_type": "code",
   "execution_count": 31,
   "id": "0308414d-0d1f-45c5-9e81-b4ea07c2e240",
   "metadata": {},
   "outputs": [
    {
     "name": "stderr",
     "output_type": "stream",
     "text": [
      "[nltk_data] Downloading package stopwords to\n",
      "[nltk_data]     C:\\Users\\3nauf\\AppData\\Roaming\\nltk_data...\n",
      "[nltk_data]   Unzipping corpora\\stopwords.zip.\n"
     ]
    },
    {
     "data": {
      "text/plain": [
       "True"
      ]
     },
     "execution_count": 31,
     "metadata": {},
     "output_type": "execute_result"
    }
   ],
   "source": [
    "nltk.download('stopwords')"
   ]
  },
  {
   "cell_type": "code",
   "execution_count": 34,
   "id": "3ac4d3ab-9cb5-4271-9013-b16fc48f0a48",
   "metadata": {},
   "outputs": [],
   "source": [
    "stopwords = nltk.corpus.stopwords.words('english')"
   ]
  },
  {
   "cell_type": "code",
   "execution_count": 35,
   "id": "5f4ef4c9-51b3-4818-b779-f4ac90efe6d4",
   "metadata": {},
   "outputs": [
    {
     "name": "stdout",
     "output_type": "stream",
     "text": [
      "['i', 'me', 'my', 'myself', 'we', 'our', 'ours', 'ourselves', 'you', \"you're\", \"you've\", \"you'll\", \"you'd\", 'your', 'yours', 'yourself', 'yourselves', 'he', 'him', 'his', 'himself', 'she', \"she's\", 'her', 'hers', 'herself', 'it', \"it's\", 'its', 'itself', 'they', 'them', 'their', 'theirs', 'themselves', 'what', 'which', 'who', 'whom', 'this', 'that', \"that'll\", 'these', 'those', 'am', 'is', 'are', 'was', 'were', 'be', 'been', 'being', 'have', 'has', 'had', 'having', 'do', 'does', 'did', 'doing', 'a', 'an', 'the', 'and', 'but', 'if', 'or', 'because', 'as', 'until', 'while', 'of', 'at', 'by', 'for', 'with', 'about', 'against', 'between', 'into', 'through', 'during', 'before', 'after', 'above', 'below', 'to', 'from', 'up', 'down', 'in', 'out', 'on', 'off', 'over', 'under', 'again', 'further', 'then', 'once', 'here', 'there', 'when', 'where', 'why', 'how', 'all', 'any', 'both', 'each', 'few', 'more', 'most', 'other', 'some', 'such', 'no', 'nor', 'not', 'only', 'own', 'same', 'so', 'than', 'too', 'very', 's', 't', 'can', 'will', 'just', 'don', \"don't\", 'should', \"should've\", 'now', 'd', 'll', 'm', 'o', 're', 've', 'y', 'ain', 'aren', \"aren't\", 'couldn', \"couldn't\", 'didn', \"didn't\", 'doesn', \"doesn't\", 'hadn', \"hadn't\", 'hasn', \"hasn't\", 'haven', \"haven't\", 'isn', \"isn't\", 'ma', 'mightn', \"mightn't\", 'mustn', \"mustn't\", 'needn', \"needn't\", 'shan', \"shan't\", 'shouldn', \"shouldn't\", 'wasn', \"wasn't\", 'weren', \"weren't\", 'won', \"won't\", 'wouldn', \"wouldn't\"]\n"
     ]
    }
   ],
   "source": [
    "print(stopwords)"
   ]
  },
  {
   "cell_type": "code",
   "execution_count": 36,
   "id": "965face7-ab50-47fb-bfc3-61f37926d746",
   "metadata": {},
   "outputs": [],
   "source": [
    "def remove_stopwords(text):\n",
    "    output = []\n",
    "    for i in text:\n",
    "        if i not in stopwords:\n",
    "            output.append(i)\n",
    "    return output"
   ]
  },
  {
   "cell_type": "code",
   "execution_count": 37,
   "id": "85c01f35-aa8a-4f6f-82f4-5db442ba35f4",
   "metadata": {},
   "outputs": [
    {
     "data": {
      "text/html": [
       "<div>\n",
       "<style scoped>\n",
       "    .dataframe tbody tr th:only-of-type {\n",
       "        vertical-align: middle;\n",
       "    }\n",
       "\n",
       "    .dataframe tbody tr th {\n",
       "        vertical-align: top;\n",
       "    }\n",
       "\n",
       "    .dataframe thead th {\n",
       "        text-align: right;\n",
       "    }\n",
       "</style>\n",
       "<table border=\"1\" class=\"dataframe\">\n",
       "  <thead>\n",
       "    <tr style=\"text-align: right;\">\n",
       "      <th></th>\n",
       "      <th>Review</th>\n",
       "      <th>clean_punctuation</th>\n",
       "      <th>clean_lower</th>\n",
       "      <th>clean_number</th>\n",
       "      <th>token_data</th>\n",
       "      <th>clean_stopwords</th>\n",
       "    </tr>\n",
       "  </thead>\n",
       "  <tbody>\n",
       "    <tr>\n",
       "      <th>0</th>\n",
       "      <td>I like this books very much!!! It is VERY INTE...</td>\n",
       "      <td>I like this books very much It is VERY INTERES...</td>\n",
       "      <td>i like this books very much it is very interes...</td>\n",
       "      <td>i like this books very much it is very interes...</td>\n",
       "      <td>[i, like, this, books, very, much, it, is, ver...</td>\n",
       "      <td>[like, books, much, interesting]</td>\n",
       "    </tr>\n",
       "    <tr>\n",
       "      <th>1</th>\n",
       "      <td>Do not like this book. so boring 2. Too length...</td>\n",
       "      <td>Do not like this book so boring 2 Too lengthy</td>\n",
       "      <td>do not like this book so boring 2 too lengthy</td>\n",
       "      <td>do not like this book so boring  too lengthy</td>\n",
       "      <td>[do, not, like, this, book, so, boring, too, l...</td>\n",
       "      <td>[like, book, boring, lengthy]</td>\n",
       "    </tr>\n",
       "  </tbody>\n",
       "</table>\n",
       "</div>"
      ],
      "text/plain": [
       "                                              Review  \\\n",
       "0  I like this books very much!!! It is VERY INTE...   \n",
       "1  Do not like this book. so boring 2. Too length...   \n",
       "\n",
       "                                   clean_punctuation  \\\n",
       "0  I like this books very much It is VERY INTERES...   \n",
       "1     Do not like this book so boring 2 Too lengthy    \n",
       "\n",
       "                                         clean_lower  \\\n",
       "0  i like this books very much it is very interes...   \n",
       "1     do not like this book so boring 2 too lengthy    \n",
       "\n",
       "                                        clean_number  \\\n",
       "0  i like this books very much it is very interes...   \n",
       "1      do not like this book so boring  too lengthy    \n",
       "\n",
       "                                          token_data  \\\n",
       "0  [i, like, this, books, very, much, it, is, ver...   \n",
       "1  [do, not, like, this, book, so, boring, too, l...   \n",
       "\n",
       "                    clean_stopwords  \n",
       "0  [like, books, much, interesting]  \n",
       "1     [like, book, boring, lengthy]  "
      ]
     },
     "execution_count": 37,
     "metadata": {},
     "output_type": "execute_result"
    }
   ],
   "source": [
    "data['clean_stopwords'] = data['token_data'].apply(remove_stopwords)\n",
    "data"
   ]
  },
  {
   "cell_type": "code",
   "execution_count": 38,
   "id": "ba169688-753e-4b18-a2c5-94a1728462ab",
   "metadata": {},
   "outputs": [],
   "source": [
    "from nltk.stem.porter import PorterStemmer"
   ]
  },
  {
   "cell_type": "code",
   "execution_count": 39,
   "id": "783d79ce-05ec-4e0f-bb5c-e3052b9cd738",
   "metadata": {},
   "outputs": [],
   "source": [
    "porter_stemmer = PorterStemmer()"
   ]
  },
  {
   "cell_type": "code",
   "execution_count": 40,
   "id": "4ce0d3d1-93e3-413a-8cfa-4e8329170ccd",
   "metadata": {},
   "outputs": [],
   "source": [
    "def stemming(text):\n",
    "    stem_text = []\n",
    "    for word in text:\n",
    "        stemmed_word = porter_stemmer.stem(word)\n",
    "        stem_text.append(stemmed_word)\n",
    "    return stem_text"
   ]
  },
  {
   "cell_type": "code",
   "execution_count": 41,
   "id": "d0eee484-cd56-41ea-9078-3a7ba03879fb",
   "metadata": {},
   "outputs": [
    {
     "data": {
      "text/html": [
       "<div>\n",
       "<style scoped>\n",
       "    .dataframe tbody tr th:only-of-type {\n",
       "        vertical-align: middle;\n",
       "    }\n",
       "\n",
       "    .dataframe tbody tr th {\n",
       "        vertical-align: top;\n",
       "    }\n",
       "\n",
       "    .dataframe thead th {\n",
       "        text-align: right;\n",
       "    }\n",
       "</style>\n",
       "<table border=\"1\" class=\"dataframe\">\n",
       "  <thead>\n",
       "    <tr style=\"text-align: right;\">\n",
       "      <th></th>\n",
       "      <th>Review</th>\n",
       "      <th>clean_punctuation</th>\n",
       "      <th>clean_lower</th>\n",
       "      <th>clean_number</th>\n",
       "      <th>token_data</th>\n",
       "      <th>clean_stopwords</th>\n",
       "      <th>clean_stemmed</th>\n",
       "    </tr>\n",
       "  </thead>\n",
       "  <tbody>\n",
       "    <tr>\n",
       "      <th>0</th>\n",
       "      <td>I like this books very much!!! It is VERY INTE...</td>\n",
       "      <td>I like this books very much It is VERY INTERES...</td>\n",
       "      <td>i like this books very much it is very interes...</td>\n",
       "      <td>i like this books very much it is very interes...</td>\n",
       "      <td>[i, like, this, books, very, much, it, is, ver...</td>\n",
       "      <td>[like, books, much, interesting]</td>\n",
       "      <td>[like, book, much, interest]</td>\n",
       "    </tr>\n",
       "    <tr>\n",
       "      <th>1</th>\n",
       "      <td>Do not like this book. so boring 2. Too length...</td>\n",
       "      <td>Do not like this book so boring 2 Too lengthy</td>\n",
       "      <td>do not like this book so boring 2 too lengthy</td>\n",
       "      <td>do not like this book so boring  too lengthy</td>\n",
       "      <td>[do, not, like, this, book, so, boring, too, l...</td>\n",
       "      <td>[like, book, boring, lengthy]</td>\n",
       "      <td>[like, book, bore, lengthi]</td>\n",
       "    </tr>\n",
       "  </tbody>\n",
       "</table>\n",
       "</div>"
      ],
      "text/plain": [
       "                                              Review  \\\n",
       "0  I like this books very much!!! It is VERY INTE...   \n",
       "1  Do not like this book. so boring 2. Too length...   \n",
       "\n",
       "                                   clean_punctuation  \\\n",
       "0  I like this books very much It is VERY INTERES...   \n",
       "1     Do not like this book so boring 2 Too lengthy    \n",
       "\n",
       "                                         clean_lower  \\\n",
       "0  i like this books very much it is very interes...   \n",
       "1     do not like this book so boring 2 too lengthy    \n",
       "\n",
       "                                        clean_number  \\\n",
       "0  i like this books very much it is very interes...   \n",
       "1      do not like this book so boring  too lengthy    \n",
       "\n",
       "                                          token_data  \\\n",
       "0  [i, like, this, books, very, much, it, is, ver...   \n",
       "1  [do, not, like, this, book, so, boring, too, l...   \n",
       "\n",
       "                    clean_stopwords                 clean_stemmed  \n",
       "0  [like, books, much, interesting]  [like, book, much, interest]  \n",
       "1     [like, book, boring, lengthy]   [like, book, bore, lengthi]  "
      ]
     },
     "execution_count": 41,
     "metadata": {},
     "output_type": "execute_result"
    }
   ],
   "source": [
    "data['clean_stemmed'] = data['clean_stopwords'].apply(stemming)\n",
    "data"
   ]
  },
  {
   "cell_type": "code",
   "execution_count": 43,
   "id": "544f36eb-743b-40e7-b84e-06dacedfba87",
   "metadata": {},
   "outputs": [
    {
     "name": "stderr",
     "output_type": "stream",
     "text": [
      "[nltk_data] Downloading package wordnet to\n",
      "[nltk_data]     C:\\Users\\3nauf\\AppData\\Roaming\\nltk_data...\n"
     ]
    },
    {
     "data": {
      "text/plain": [
       "True"
      ]
     },
     "execution_count": 43,
     "metadata": {},
     "output_type": "execute_result"
    }
   ],
   "source": [
    "nltk.download(\"wordnet\")"
   ]
  },
  {
   "cell_type": "code",
   "execution_count": 44,
   "id": "1284d4c0-8932-4f95-8fb1-5d7a91b59aed",
   "metadata": {},
   "outputs": [],
   "source": [
    "from nltk.stem import WordNetLemmatizer"
   ]
  },
  {
   "cell_type": "code",
   "execution_count": 45,
   "id": "45d3774b-ecd7-4145-8f4d-d41331d4687d",
   "metadata": {},
   "outputs": [],
   "source": [
    "wordnet_lemmatizer = WordNetLemmatizer()"
   ]
  },
  {
   "cell_type": "code",
   "execution_count": 46,
   "id": "421637d3-1525-40fb-ba17-babb676fec85",
   "metadata": {},
   "outputs": [],
   "source": [
    "def lemmatizer(text):\n",
    "    lemm_text = []\n",
    "    for word in text:\n",
    "        lemmatized_word = wordnet_lemmatizer.lemmatize(word)\n",
    "        lemm_text.append(lemmatized_word)\n",
    "    return lemm_text"
   ]
  },
  {
   "cell_type": "code",
   "execution_count": 48,
   "id": "4d2ab68b-1d61-4d54-b7eb-7d097bd40a81",
   "metadata": {},
   "outputs": [
    {
     "data": {
      "text/html": [
       "<div>\n",
       "<style scoped>\n",
       "    .dataframe tbody tr th:only-of-type {\n",
       "        vertical-align: middle;\n",
       "    }\n",
       "\n",
       "    .dataframe tbody tr th {\n",
       "        vertical-align: top;\n",
       "    }\n",
       "\n",
       "    .dataframe thead th {\n",
       "        text-align: right;\n",
       "    }\n",
       "</style>\n",
       "<table border=\"1\" class=\"dataframe\">\n",
       "  <thead>\n",
       "    <tr style=\"text-align: right;\">\n",
       "      <th></th>\n",
       "      <th>Review</th>\n",
       "      <th>clean_punctuation</th>\n",
       "      <th>clean_lower</th>\n",
       "      <th>clean_number</th>\n",
       "      <th>token_data</th>\n",
       "      <th>clean_stopwords</th>\n",
       "      <th>clean_stemmed</th>\n",
       "      <th>clen_lemmatized1</th>\n",
       "    </tr>\n",
       "  </thead>\n",
       "  <tbody>\n",
       "    <tr>\n",
       "      <th>0</th>\n",
       "      <td>I like this books very much!!! It is VERY INTE...</td>\n",
       "      <td>I like this books very much It is VERY INTERES...</td>\n",
       "      <td>i like this books very much it is very interes...</td>\n",
       "      <td>i like this books very much it is very interes...</td>\n",
       "      <td>[i, like, this, books, very, much, it, is, ver...</td>\n",
       "      <td>[like, books, much, interesting]</td>\n",
       "      <td>[like, book, much, interest]</td>\n",
       "      <td>[like, book, much, interesting]</td>\n",
       "    </tr>\n",
       "    <tr>\n",
       "      <th>1</th>\n",
       "      <td>Do not like this book. so boring 2. Too length...</td>\n",
       "      <td>Do not like this book so boring 2 Too lengthy</td>\n",
       "      <td>do not like this book so boring 2 too lengthy</td>\n",
       "      <td>do not like this book so boring  too lengthy</td>\n",
       "      <td>[do, not, like, this, book, so, boring, too, l...</td>\n",
       "      <td>[like, book, boring, lengthy]</td>\n",
       "      <td>[like, book, bore, lengthi]</td>\n",
       "      <td>[like, book, boring, lengthy]</td>\n",
       "    </tr>\n",
       "  </tbody>\n",
       "</table>\n",
       "</div>"
      ],
      "text/plain": [
       "                                              Review  \\\n",
       "0  I like this books very much!!! It is VERY INTE...   \n",
       "1  Do not like this book. so boring 2. Too length...   \n",
       "\n",
       "                                   clean_punctuation  \\\n",
       "0  I like this books very much It is VERY INTERES...   \n",
       "1     Do not like this book so boring 2 Too lengthy    \n",
       "\n",
       "                                         clean_lower  \\\n",
       "0  i like this books very much it is very interes...   \n",
       "1     do not like this book so boring 2 too lengthy    \n",
       "\n",
       "                                        clean_number  \\\n",
       "0  i like this books very much it is very interes...   \n",
       "1      do not like this book so boring  too lengthy    \n",
       "\n",
       "                                          token_data  \\\n",
       "0  [i, like, this, books, very, much, it, is, ver...   \n",
       "1  [do, not, like, this, book, so, boring, too, l...   \n",
       "\n",
       "                    clean_stopwords                 clean_stemmed  \\\n",
       "0  [like, books, much, interesting]  [like, book, much, interest]   \n",
       "1     [like, book, boring, lengthy]   [like, book, bore, lengthi]   \n",
       "\n",
       "                  clen_lemmatized1  \n",
       "0  [like, book, much, interesting]  \n",
       "1    [like, book, boring, lengthy]  "
      ]
     },
     "execution_count": 48,
     "metadata": {},
     "output_type": "execute_result"
    }
   ],
   "source": [
    "data['clen_lemmatized1'] = data['clean_stopwords'].apply(lemmatizer)\n",
    "data"
   ]
  },
  {
   "cell_type": "code",
   "execution_count": 49,
   "id": "c4e4b760-1231-4140-86c2-eb2731cb817c",
   "metadata": {},
   "outputs": [
    {
     "data": {
      "text/html": [
       "<div>\n",
       "<style scoped>\n",
       "    .dataframe tbody tr th:only-of-type {\n",
       "        vertical-align: middle;\n",
       "    }\n",
       "\n",
       "    .dataframe tbody tr th {\n",
       "        vertical-align: top;\n",
       "    }\n",
       "\n",
       "    .dataframe thead th {\n",
       "        text-align: right;\n",
       "    }\n",
       "</style>\n",
       "<table border=\"1\" class=\"dataframe\">\n",
       "  <thead>\n",
       "    <tr style=\"text-align: right;\">\n",
       "      <th></th>\n",
       "      <th>Review</th>\n",
       "      <th>clean_punctuation</th>\n",
       "      <th>clean_lower</th>\n",
       "      <th>clean_number</th>\n",
       "      <th>token_data</th>\n",
       "      <th>clean_stopwords</th>\n",
       "      <th>clean_stemmed</th>\n",
       "      <th>clen_lemmatized1</th>\n",
       "      <th>clen_lemmatized2</th>\n",
       "    </tr>\n",
       "  </thead>\n",
       "  <tbody>\n",
       "    <tr>\n",
       "      <th>0</th>\n",
       "      <td>I like this books very much!!! It is VERY INTE...</td>\n",
       "      <td>I like this books very much It is VERY INTERES...</td>\n",
       "      <td>i like this books very much it is very interes...</td>\n",
       "      <td>i like this books very much it is very interes...</td>\n",
       "      <td>[i, like, this, books, very, much, it, is, ver...</td>\n",
       "      <td>[like, books, much, interesting]</td>\n",
       "      <td>[like, book, much, interest]</td>\n",
       "      <td>[like, book, much, interesting]</td>\n",
       "      <td>[like, book, much, interest]</td>\n",
       "    </tr>\n",
       "    <tr>\n",
       "      <th>1</th>\n",
       "      <td>Do not like this book. so boring 2. Too length...</td>\n",
       "      <td>Do not like this book so boring 2 Too lengthy</td>\n",
       "      <td>do not like this book so boring 2 too lengthy</td>\n",
       "      <td>do not like this book so boring  too lengthy</td>\n",
       "      <td>[do, not, like, this, book, so, boring, too, l...</td>\n",
       "      <td>[like, book, boring, lengthy]</td>\n",
       "      <td>[like, book, bore, lengthi]</td>\n",
       "      <td>[like, book, boring, lengthy]</td>\n",
       "      <td>[like, book, bore, lengthi]</td>\n",
       "    </tr>\n",
       "  </tbody>\n",
       "</table>\n",
       "</div>"
      ],
      "text/plain": [
       "                                              Review  \\\n",
       "0  I like this books very much!!! It is VERY INTE...   \n",
       "1  Do not like this book. so boring 2. Too length...   \n",
       "\n",
       "                                   clean_punctuation  \\\n",
       "0  I like this books very much It is VERY INTERES...   \n",
       "1     Do not like this book so boring 2 Too lengthy    \n",
       "\n",
       "                                         clean_lower  \\\n",
       "0  i like this books very much it is very interes...   \n",
       "1     do not like this book so boring 2 too lengthy    \n",
       "\n",
       "                                        clean_number  \\\n",
       "0  i like this books very much it is very interes...   \n",
       "1      do not like this book so boring  too lengthy    \n",
       "\n",
       "                                          token_data  \\\n",
       "0  [i, like, this, books, very, much, it, is, ver...   \n",
       "1  [do, not, like, this, book, so, boring, too, l...   \n",
       "\n",
       "                    clean_stopwords                 clean_stemmed  \\\n",
       "0  [like, books, much, interesting]  [like, book, much, interest]   \n",
       "1     [like, book, boring, lengthy]   [like, book, bore, lengthi]   \n",
       "\n",
       "                  clen_lemmatized1              clen_lemmatized2  \n",
       "0  [like, book, much, interesting]  [like, book, much, interest]  \n",
       "1    [like, book, boring, lengthy]   [like, book, bore, lengthi]  "
      ]
     },
     "execution_count": 49,
     "metadata": {},
     "output_type": "execute_result"
    }
   ],
   "source": [
    "data['clen_lemmatized2'] = data['clean_stemmed'].apply(lemmatizer)\n",
    "data"
   ]
  },
  {
   "cell_type": "code",
   "execution_count": null,
   "id": "098d925d-378d-4798-8d0f-7082babe9aee",
   "metadata": {},
   "outputs": [],
   "source": []
  }
 ],
 "metadata": {
  "kernelspec": {
   "display_name": "Python 3 (ipykernel)",
   "language": "python",
   "name": "python3"
  },
  "language_info": {
   "codemirror_mode": {
    "name": "ipython",
    "version": 3
   },
   "file_extension": ".py",
   "mimetype": "text/x-python",
   "name": "python",
   "nbconvert_exporter": "python",
   "pygments_lexer": "ipython3",
   "version": "3.11.7"
  }
 },
 "nbformat": 4,
 "nbformat_minor": 5
}
