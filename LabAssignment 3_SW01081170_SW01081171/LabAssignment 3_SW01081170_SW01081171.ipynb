{
 "cells": [
  {
   "cell_type": "code",
   "execution_count": 1,
   "id": "85083579",
   "metadata": {},
   "outputs": [],
   "source": [
    "# Group Members\n",
    "# - Member 1: [Muhamad Hafizuddin bin Othman], [SW01081170]\n",
    "# - Member 2: [Naufal bin Nujaimin], [SW01081171]"
   ]
  },
  {
   "cell_type": "code",
   "execution_count": 2,
   "id": "324cfbc9",
   "metadata": {},
   "outputs": [
    {
     "name": "stderr",
     "output_type": "stream",
     "text": [
      "[nltk_data] Downloading package stopwords to\n",
      "[nltk_data]     C:\\Users\\User\\AppData\\Roaming\\nltk_data...\n",
      "[nltk_data]   Package stopwords is already up-to-date!\n",
      "[nltk_data] Downloading package punkt to\n",
      "[nltk_data]     C:\\Users\\User\\AppData\\Roaming\\nltk_data...\n",
      "[nltk_data]   Package punkt is already up-to-date!\n",
      "[nltk_data] Downloading package wordnet to\n",
      "[nltk_data]     C:\\Users\\User\\AppData\\Roaming\\nltk_data...\n",
      "[nltk_data]   Package wordnet is already up-to-date!\n"
     ]
    },
    {
     "data": {
      "text/plain": [
       "True"
      ]
     },
     "execution_count": 2,
     "metadata": {},
     "output_type": "execute_result"
    }
   ],
   "source": [
    "# Import the necessary libraries\n",
    "import pandas as pd\n",
    "import nltk\n",
    "from nltk.corpus import stopwords\n",
    "from nltk.tokenize import word_tokenize\n",
    "from nltk.stem import WordNetLemmatizer\n",
    "from gensim import corpora\n",
    "from gensim.models import LdaModel\n",
    "from gensim.models.coherencemodel import CoherenceModel\n",
    "\n",
    "# Download NLTK resources\n",
    "nltk.download('stopwords')\n",
    "nltk.download('punkt')\n",
    "nltk.download('wordnet')"
   ]
  },
  {
   "cell_type": "code",
   "execution_count": 3,
   "id": "33496b82",
   "metadata": {},
   "outputs": [],
   "source": [
    "# Read the data\n",
    "df = pd.read_csv('news_dataset.csv')\n",
    "documents = df['text'].dropna().tolist()  # Use only the 'text' column and remove null values"
   ]
  },
  {
   "cell_type": "code",
   "execution_count": 4,
   "id": "c67d8d5c",
   "metadata": {},
   "outputs": [],
   "source": [
    "# Perform text pre-processing\n",
    "stop_words = set(stopwords.words('english'))  # Create a set of English stopwords\n",
    "lemmatizer = WordNetLemmatizer()  # Initialize a WordNet lemmatizer\n",
    "\n",
    "def preprocess_text(text):\n",
    "    tokens = word_tokenize(text.lower())  # Tokenize the text into words and convert to lowercase\n",
    "    tokens = [token for token in tokens if token.isalnum()]  # Filter out non-alphanumeric tokens\n",
    "    tokens = [token for token in tokens if token not in stop_words]  # Remove stopwords from the tokens\n",
    "    tokens = [lemmatizer.lemmatize(token) for token in tokens]  # Lemmatize each token\n",
    "    return tokens  # Return the preprocessed tokens\n",
    "\n",
    "preprocessed_documents = [preprocess_text(doc) for doc in documents]  # Preprocess each document in the list"
   ]
  },
  {
   "cell_type": "code",
   "execution_count": 5,
   "id": "7262cb2e",
   "metadata": {},
   "outputs": [],
   "source": [
    "# Create document-term matrix\n",
    "dictionary = corpora.Dictionary(preprocessed_documents)  # Create a Gensim Dictionary object from the preprocessed documents\n",
    "dictionary.filter_extremes(no_below=15, no_above=0.5)  # Filter out tokens that appear in less than 15 documents or more than 50% of the documents\n",
    "corpus = [dictionary.doc2bow(doc) for doc in preprocessed_documents]  # Convert each preprocessed document into a bag-of-words representation using the dictionary"
   ]
  },
  {
   "cell_type": "code",
   "execution_count": 6,
   "id": "1b72e975",
   "metadata": {},
   "outputs": [],
   "source": [
    "# Perform LDA using Gensim\n",
    "lda_model = LdaModel(corpus, num_topics=4, id2word=dictionary, passes=15)  # Train an LDA model on the corpus with 4 topics using Gensim's LdaModel class"
   ]
  },
  {
   "cell_type": "code",
   "execution_count": 7,
   "id": "d5080f04",
   "metadata": {},
   "outputs": [],
   "source": [
    "# Evaluate the LDA model using Coherence score\n",
    "coherence_model_lda = CoherenceModel(model=lda_model, texts=preprocessed_documents, dictionary=dictionary, coherence='c_v')\n",
    "coherence_lda = coherence_model_lda.get_coherence()"
   ]
  },
  {
   "cell_type": "code",
   "execution_count": 8,
   "id": "4d80667e",
   "metadata": {},
   "outputs": [
    {
     "name": "stdout",
     "output_type": "stream",
     "text": [
      "Topic Coherence Score (C_V): 0.6241\n"
     ]
    }
   ],
   "source": [
    "# Display the coherence score\n",
    "print(f'Topic Coherence Score (C_V): {coherence_lda:.4f}')"
   ]
  },
  {
   "cell_type": "code",
   "execution_count": 9,
   "id": "3cfa1ec8-2792-4d5b-b742-1961f44d2fb9",
   "metadata": {},
   "outputs": [
    {
     "name": "stdout",
     "output_type": "stream",
     "text": [
      "Table with Articles and Topic:\n",
      "                                                 Article  Topic\n",
      "0      I was wondering if anyone out there could enli...      3\n",
      "1      I recently posted an article asking what kind ...      3\n",
      "2      \\nIt depends on your priorities.  A lot of peo...      3\n",
      "3      an excellent automatic can be found in the sub...      3\n",
      "4      : Ford and his automobile.  I need information...      3\n",
      "...                                                  ...    ...\n",
      "11091  Secrecy in Clipper Chip\\n\\nThe serial number o...      2\n",
      "11092  Hi !\\n\\nI am interested in the source of FEAL ...      2\n",
      "11093  The actual algorithm is classified, however, t...      2\n",
      "11094  \\n\\tThis appears to be generic calling upon th...      1\n",
      "11095  \\nProbably keep quiet and take it, lest they g...      3\n",
      "\n",
      "[11096 rows x 2 columns]\n",
      "\n"
     ]
    }
   ],
   "source": [
    "# Interpret the result\n",
    "article_labels = []  # Empty list to store dominant topic labels for each document\n",
    "\n",
    "# Iterate over each processed document\n",
    "for i, doc in enumerate(preprocessed_documents):\n",
    "    bow = dictionary.doc2bow(doc)  # For each document, convert to BOW representation\n",
    "    topics = lda_model.get_document_topics(bow)  # Get list of topic probabilities\n",
    "    dominant_topic = max(topics, key=lambda x: x[1])[0]  # Determine topic with highest probability\n",
    "    article_labels.append(dominant_topic)  # Append to the list\n",
    "\n",
    "# Create DataFrame\n",
    "df_result = pd.DataFrame({\"Article\": documents, \"Topic\": article_labels})\n",
    "\n",
    "# Print the DataFrame\n",
    "print(\"Table with Articles and Topic:\")\n",
    "print(df_result)\n",
    "print()"
   ]
  },
  {
   "cell_type": "code",
   "execution_count": 10,
   "id": "ee95ef6e",
   "metadata": {},
   "outputs": [
    {
     "name": "stdout",
     "output_type": "stream",
     "text": [
      "Top Terms for Each Topic:\n",
      "Top terms for Topic #0:\n",
      "['1', 'x', '0', 'max', '2', 'q', '7', 'g', 'r', '3']\n",
      "\n",
      "Top terms for Topic #1:\n",
      "['would', 'people', 'government', 'one', 'think', 'law', 'right', 'year', 'q', 'president']\n",
      "\n",
      "Top terms for Topic #2:\n",
      "['key', 'use', 'file', 'system', 'one', 'chip', 'get', 'program', 'window', 'also']\n",
      "\n",
      "Top terms for Topic #3:\n",
      "['one', 'would', 'people', 'god', 'like', 'time', 'know', 'say', 'get', 'think']\n",
      "\n"
     ]
    }
   ],
   "source": [
    "# Print the top terms for each topic\n",
    "print(\"Top Terms for Each Topic:\")\n",
    "for topic_id in range(lda_model.num_topics):\n",
    "    print(f\"Top terms for Topic #{topic_id}:\")\n",
    "    top_terms = lda_model.show_topic(topic_id, topn=10)\n",
    "    print([term[0] for term in top_terms])\n",
    "    print()"
   ]
  },
  {
   "cell_type": "code",
   "execution_count": 11,
   "id": "b90d32ce-849e-4366-91eb-f71816271a17",
   "metadata": {},
   "outputs": [
    {
     "name": "stdout",
     "output_type": "stream",
     "text": [
      "Top Terms for Each Topic with Weight:\n",
      "Topic 0:\n",
      "- \"1\" (weight: 0.055)\n",
      "- \"x\" (weight: 0.047)\n",
      "- \"0\" (weight: 0.041)\n",
      "- \"max\" (weight: 0.039)\n",
      "- \"2\" (weight: 0.038)\n",
      "- \"q\" (weight: 0.026)\n",
      "- \"7\" (weight: 0.026)\n",
      "- \"g\" (weight: 0.025)\n",
      "- \"r\" (weight: 0.025)\n",
      "- \"3\" (weight: 0.024)\n",
      "\n",
      "Topic 1:\n",
      "- \"would\" (weight: 0.010)\n",
      "- \"people\" (weight: 0.007)\n",
      "- \"government\" (weight: 0.006)\n",
      "- \"one\" (weight: 0.006)\n",
      "- \"think\" (weight: 0.006)\n",
      "- \"law\" (weight: 0.005)\n",
      "- \"right\" (weight: 0.005)\n",
      "- \"year\" (weight: 0.005)\n",
      "- \"q\" (weight: 0.005)\n",
      "- \"president\" (weight: 0.004)\n",
      "\n",
      "Topic 2:\n",
      "- \"key\" (weight: 0.010)\n",
      "- \"use\" (weight: 0.009)\n",
      "- \"file\" (weight: 0.008)\n",
      "- \"system\" (weight: 0.007)\n",
      "- \"one\" (weight: 0.006)\n",
      "- \"chip\" (weight: 0.006)\n",
      "- \"get\" (weight: 0.005)\n",
      "- \"program\" (weight: 0.005)\n",
      "- \"window\" (weight: 0.005)\n",
      "- \"also\" (weight: 0.005)\n",
      "\n",
      "Topic 3:\n",
      "- \"one\" (weight: 0.010)\n",
      "- \"would\" (weight: 0.009)\n",
      "- \"people\" (weight: 0.008)\n",
      "- \"god\" (weight: 0.006)\n",
      "- \"like\" (weight: 0.006)\n",
      "- \"time\" (weight: 0.006)\n",
      "- \"know\" (weight: 0.006)\n",
      "- \"say\" (weight: 0.005)\n",
      "- \"get\" (weight: 0.004)\n",
      "- \"think\" (weight: 0.004)\n",
      "\n"
     ]
    }
   ],
   "source": [
    "# Print the top terms for each topic with weight\n",
    "print(\"Top Terms for Each Topic with Weight:\")\n",
    "for idx, topic in lda_model.print_topics():\n",
    "    print(f\"Topic {idx}:\")\n",
    "    terms = [term.strip() for term in topic.split(\"+\")]\n",
    "    for term in terms:\n",
    "        weight, word = term.split(\"*\")\n",
    "        print(f\"- {word.strip()} (weight: {weight.strip()})\")\n",
    "    print()"
   ]
  },
  {
   "cell_type": "code",
   "execution_count": 12,
   "id": "6f7ef908-4271-45ed-8e59-4353ffae5d1c",
   "metadata": {},
   "outputs": [],
   "source": [
    "# Coherence Score Interpretation:\n",
    "# The coherence score indicates how interpretable and meaningful the topics generated by the LDA model are.\n",
    "# A higher coherence score suggests the topics are more coherent and well-defined, making them easier to interpret and analyze.\n",
    "# A lower coherence score may indicate that the topics are less coherent and may require further refinement."
   ]
  },
  {
   "cell_type": "code",
   "execution_count": null,
   "id": "d84f9828-14ba-4b2d-88bc-a7da1f09c344",
   "metadata": {},
   "outputs": [],
   "source": []
  }
 ],
 "metadata": {
  "kernelspec": {
   "display_name": "Python 3 (ipykernel)",
   "language": "python",
   "name": "python3"
  },
  "language_info": {
   "codemirror_mode": {
    "name": "ipython",
    "version": 3
   },
   "file_extension": ".py",
   "mimetype": "text/x-python",
   "name": "python",
   "nbconvert_exporter": "python",
   "pygments_lexer": "ipython3",
   "version": "3.11.7"
  }
 },
 "nbformat": 4,
 "nbformat_minor": 5
}
